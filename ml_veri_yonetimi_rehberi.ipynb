{
 "cells": [
  {
   "cell_type": "markdown",
   "metadata": {},
   "source": [
    "# 🎓 ML Öğrencisi İçin Veri Yönetimi ve Versiyonlama Rehberi\n",
    "\n",
    "Bu notebook, ML projelerine başlayan öğrenciler için **veri yönetimi** ve **versiyonlama** konularında kapsamlı bir rehberdir.\n",
    "\n",
    "## 📚 Bu Notebook'ta Öğrenecekleriniz:\n",
    "- Doğru proje yapısı nasıl oluşturulur\n",
    "- Git ve DVC'yi birlikte nasıl kullanırız\n",
    "- Veri versiyonlama stratejileri\n",
    "- ML pipeline oluşturma\n",
    "- Günlük çalışma rutinleri"
   ]
  },
  {
   "cell_type": "markdown",
   "metadata": {},
   "source": [
    "---\n",
    "## 📁 1. Doğru Proje Yapısı\n",
    "\n",
    "ML projesi başlatırken **ilk** yapmanız gereken doğru klasör yapısını oluşturmaktır."
   ]
  },
  {
   "cell_type": "markdown",
   "metadata": {},
   "source": [
    "### 🗂️ Önerilen Klasör Yapısı:\n",
    "\n",
    "```\n",
    "my_ml_project/\n",
    "├── .git/                    # Git repository (otomatik oluşur)\n",
    "├── .dvc/                    # DVC konfigürasyon (otomatik oluşur)\n",
    "├── .gitignore               # Git ignore dosyası\n",
    "├── .dvcignore               # DVC ignore dosyası\n",
    "├── README.md                # Proje açıklaması\n",
    "├── requirements.txt         # Python bağımlılıkları\n",
    "├── dvc.yaml                # DVC pipeline tanımı\n",
    "├── dvc.lock                # DVC pipeline durumu (otomatik)\n",
    "├── data/\n",
    "│   ├── raw/                # Ham veri (DVC ile takip)\n",
    "│   ├── processed/          # İşlenmiş veri (DVC ile takip)\n",
    "│   └── external/           # Dış kaynak veriler\n",
    "├── models/                 # Eğitilmiş modeller (DVC ile takip)\n",
    "├── notebooks/              # Jupyter notebook'lar (deneyim için)\n",
    "├── src/                    # Kaynak kod\n",
    "│   ├── data/              # Veri işleme script'leri\n",
    "│   ├── features/          # Feature engineering\n",
    "│   ├── models/            # Model eğitimi\n",
    "│   └── visualization/     # Görselleştirme\n",
    "└── results/               # Sonuçlar, metrikler, grafikler\n",
    "```"
   ]
  },
  {
   "cell_type": "markdown",
   "metadata": {},
   "source": [
    "### 💡 Neden Bu Yapı?\n",
    "\n",
    "**Veri Katmanları:**\n",
    "- `data/raw/` → Ham veri, hiç değiştirilmez\n",
    "- `data/processed/` → Temizlenmiş, işlenmiş veri\n",
    "- `data/external/` → API'lardan gelen, sürekli güncellenen veri\n",
    "\n",
    "**Kod Organizasyonu:**\n",
    "- `src/data/` → Veri indirme, temizleme script'leri\n",
    "- `src/features/` → Feature engineering kod'ları\n",
    "- `src/models/` → Model eğitimi, değerlendirme\n",
    "\n",
    "**Çıktılar:**\n",
    "- `models/` → Eğitilmiş modeller (.pkl, .joblib dosyaları)\n",
    "- `results/` → Metrikler, grafikler, raporlar"
   ]
  },
  {
   "cell_type": "markdown",
   "metadata": {},
   "source": [
    "---\n",
    "## 🚀 2. Proje Kurulumu (Adım Adım)\n",
    "\n",
    "Yeni bir ML projesi başlatırken yapmanız gerekenler:"
   ]
  },
  {
   "cell_type": "code",
   "execution_count": null,
   "metadata": {},
   "outputs": [],
   "source": [
    "# Terminal'de çalıştırın (bu cell'i çalıştırmayın, sadece örnek)\n",
    "\n",
    "\"\"\"\n",
    "# 1. Proje klasörü oluşturun\n",
    "mkdir my_ml_project\n",
    "cd my_ml_project\n",
    "\n",
    "# 2. Git repository başlatın\n",
    "git init\n",
    "\n",
    "# 3. DVC başlatın\n",
    "dvc init\n",
    "\n",
    "# 4. İlk commit yapın\n",
    "git add .dvc .dvcignore\n",
    "git commit -m \"Proje kurulumu - Git ve DVC başlatıldı\"\n",
    "\n",
    "# 5. Klasör yapısını oluşturun\n",
    "mkdir -p data/{raw,processed,external}\n",
    "mkdir -p models\n",
    "mkdir -p src/{data,features,models,visualization}\n",
    "mkdir -p notebooks results\n",
    "\"\"\""
   ]
  },
  {
   "cell_type": "markdown",
   "metadata": {},
   "source": [
    "### 📝 Temel Dosyaları Oluşturun:"
   ]
  },
  {
   "cell_type": "code",
   "execution_count": null,
   "metadata": {},
   "outputs": [],
   "source": [
    "# .gitignore dosyası oluşturma örneği\n",
    "gitignore_content = \"\"\"\n",
    "# Python\n",
    "__pycache__/\n",
    "*.py[cod]\n",
    "*.so\n",
    ".Python\n",
    "venv/\n",
    "env/\n",
    "\n",
    "# IDE\n",
    ".vscode/\n",
    ".idea/\n",
    "*.swp\n",
    "\n",
    "# OS\n",
    ".DS_Store\n",
    "Thumbs.db\n",
    "\n",
    "# Jupyter\n",
    ".ipynb_checkpoints\n",
    "\n",
    "# DVC - büyük dosyalar DVC ile takip edilir\n",
    "/data/raw/\n",
    "/data/processed/\n",
    "/models/\n",
    "\"\"\"\n",
    "\n",
    "# Dosyaya yazma (örnek)\n",
    "with open('.gitignore', 'w') as f:\n",
    "    f.write(gitignore_content)\n",
    "    \n",
    "print(\"✅ .gitignore dosyası oluşturuldu\")"
   ]
  },
  {
   "cell_type": "code",
   "execution_count": null,
   "metadata": {},
   "outputs": [],
   "source": [
    "# requirements.txt dosyası oluşturma\n",
    "requirements = \"\"\"\n",
    "pandas>=1.3.0\n",
    "numpy>=1.21.0\n",
    "scikit-learn>=1.0.0\n",
    "matplotlib>=3.4.0\n",
    "seaborn>=0.11.0\n",
    "jupyter>=1.0.0\n",
    "ipykernel>=6.0.0\n",
    "\"\"\"\n",
    "\n",
    "with open('requirements.txt', 'w') as f:\n",
    "    f.write(requirements.strip())\n",
    "    \n",
    "print(\"✅ requirements.txt dosyası oluşturuldu\")"
   ]
  },
  {
   "cell_type": "markdown",
   "metadata": {},
   "source": [
    "---\n",
    "## 📊 3. Veri Yönetimi Stratejisi\n",
    "\n",
    "ML projelerinde veri yönetimi **en kritik** konudur. Doğru strateji olmadan proje kaosa dönüşür."
   ]
  },
  {
   "cell_type": "markdown",
   "metadata": {},
   "source": [
    "### 🔄 Veri Akış Döngüsü:\n",
    "\n",
    "```\n",
    "Ham Veri → Temizleme → Feature Engineering → Model Eğitimi → Sonuçlar\n",
    "   ↓           ↓              ↓                ↓            ↓\n",
    "DVC Takip  DVC Pipeline   DVC Pipeline    DVC Pipeline  Git Takip\n",
    "```"
   ]
  },
  {
   "cell_type": "markdown",
   "metadata": {},
   "source": [
    "### 📥 Ham Veri Yönetimi\n",
    "\n",
    "**İlke: Ham veri hiçbir zaman değişmez!**"
   ]
  },
  {
   "cell_type": "code",
   "execution_count": null,
   "metadata": {},
   "outputs": [],
   "source": [
    "# Örnek: Ham veri indirme ve DVC ile takip etme\n",
    "\n",
    "import pandas as pd\n",
    "import os\n",
    "\n",
    "def download_raw_data():\n",
    "    \"\"\"\n",
    "    Ham veriyi indir ve kaydet\n",
    "    Bu fonksiyon sadece bir kez çalıştırılır\n",
    "    \"\"\"\n",
    "    # Örnek: API'dan veri çekme\n",
    "    # df = pd.read_csv('https://example.com/dataset.csv')\n",
    "    \n",
    "    # Örnek: Yerel dosyadan okuma\n",
    "    # df = pd.read_csv('/path/to/local/file.csv')\n",
    "    \n",
    "    # Ham veri klasörünü oluştur\n",
    "    os.makedirs('data/raw', exist_ok=True)\n",
    "    \n",
    "    # Veriyi kaydet\n",
    "    # df.to_csv('data/raw/dataset.csv', index=False)\n",
    "    \n",
    "    print(\"✅ Ham veri data/raw/dataset.csv dosyasına kaydedildi\")\n",
    "    print(\"🔄 Şimdi bu dosyayı DVC ile takip edin:\")\n",
    "    print(\"   dvc add data/raw/dataset.csv\")\n",
    "    print(\"   git add data/raw/dataset.csv.dvc .gitignore\")\n",
    "    print(\"   git commit -m 'Ham veri eklendi'\")\n",
    "\n",
    "# download_raw_data()  # İhtiyaç olduğunda çalıştırın"
   ]
  },
  {
   "cell_type": "markdown",
   "metadata": {},
   "source": [
    "### 🧹 Veri Temizleme Script'i\n",
    "\n",
    "**İlke: Her işlem script'te, tekrarlanabilir olmalı**"
   ]
  },
  {
   "cell_type": "code",
   "execution_count": null,
   "metadata": {},
   "outputs": [],
   "source": [
    "# src/data/preprocess.py dosyası örneği\n",
    "\n",
    "def create_preprocess_script():\n",
    "    \"\"\"\n",
    "    Veri temizleme script'ini oluştur\n",
    "    \"\"\"\n",
    "    os.makedirs('src/data', exist_ok=True)\n",
    "    \n",
    "    script_content = '''\n",
    "\"\"\"\n",
    "Veri Temizleme Script'i\n",
    "Ham veriyi temizleyip processed klasörüne kaydeder\n",
    "\"\"\"\n",
    "import pandas as pd\n",
    "import os\n",
    "\n",
    "def main():\n",
    "    print(\"=== VERİ TEMİZLEME BAŞLIYOR ===\")\n",
    "    \n",
    "    # Ham veriyi yükle\n",
    "    df = pd.read_csv('data/raw/dataset.csv')\n",
    "    print(f\"Ham veri yüklendi: {df.shape}\")\n",
    "    \n",
    "    # Temizleme işlemleri\n",
    "    df_clean = df.copy()\n",
    "    \n",
    "    # 1. Eksik değerleri temizle\n",
    "    df_clean = df_clean.dropna()\n",
    "    \n",
    "    # 2. Duplikatları çıkar\n",
    "    df_clean = df_clean.drop_duplicates()\n",
    "    \n",
    "    # 3. Veri tiplerini düzelt\n",
    "    # df_clean['date'] = pd.to_datetime(df_clean['date'])\n",
    "    \n",
    "    # Temizlenmiş veriyi kaydet\n",
    "    os.makedirs('data/processed', exist_ok=True)\n",
    "    df_clean.to_csv('data/processed/clean_data.csv', index=False)\n",
    "    \n",
    "    print(f\"✅ Temizlenmiş veri: {df_clean.shape}\")\n",
    "    print(\"✅ Dosya kaydedildi: data/processed/clean_data.csv\")\n",
    "\n",
    "if __name__ == \"__main__\":\n",
    "    main()\n",
    "'''\n",
    "    \n",
    "    with open('src/data/preprocess.py', 'w') as f:\n",
    "        f.write(script_content)\n",
    "    \n",
    "    print(\"✅ src/data/preprocess.py oluşturuldu\")\n",
    "\n",
    "# create_preprocess_script()  # İhtiyaç olduğunda çalıştırın"
   ]
  },
  {
   "cell_type": "markdown",
   "metadata": {},
   "source": [
    "---\n",
    "## 🔧 4. DVC Pipeline Oluşturma\n",
    "\n",
    "Pipeline, ML sürecinizi otomatikleştirir ve tekrarlanabilir hale getirir."
   ]
  },
  {
   "cell_type": "markdown",
   "metadata": {},
   "source": [
    "### 📝 dvc.yaml Dosyası Örneği:"
   ]
  },
  {
   "cell_type": "code",
   "execution_count": null,
   "metadata": {},
   "outputs": [],
   "source": [
    "# dvc.yaml dosyası oluşturma\n",
    "\n",
    "def create_dvc_pipeline():\n",
    "    \"\"\"\n",
    "    Temel DVC pipeline oluştur\n",
    "    \"\"\"\n",
    "    pipeline_content = '''\n",
    "stages:\n",
    "  preprocess:\n",
    "    cmd: python src/data/preprocess.py\n",
    "    deps:\n",
    "      - src/data/preprocess.py\n",
    "      - data/raw/dataset.csv\n",
    "    outs:\n",
    "      - data/processed/clean_data.csv\n",
    "      \n",
    "  feature_engineering:\n",
    "    cmd: python src/features/build_features.py\n",
    "    deps:\n",
    "      - src/features/build_features.py\n",
    "      - data/processed/clean_data.csv\n",
    "    outs:\n",
    "      - data/processed/features.csv\n",
    "      \n",
    "  train:\n",
    "    cmd: python src/models/train.py\n",
    "    deps:\n",
    "      - src/models/train.py\n",
    "      - data/processed/features.csv\n",
    "    outs:\n",
    "      - models/model.pkl\n",
    "    metrics:\n",
    "      - results/metrics.json\n",
    "      \n",
    "  evaluate:\n",
    "    cmd: python src/models/evaluate.py\n",
    "    deps:\n",
    "      - src/models/evaluate.py\n",
    "      - models/model.pkl\n",
    "      - data/processed/features.csv\n",
    "    outs:\n",
    "      - results/evaluation_report.html\n",
    "      - results/confusion_matrix.png\n",
    "'''\n",
    "    \n",
    "    with open('dvc.yaml', 'w') as f:\n",
    "        f.write(pipeline_content.strip())\n",
    "    \n",
    "    print(\"✅ dvc.yaml pipeline dosyası oluşturuldu\")\n",
    "    print(\"🔄 Pipeline'ı çalıştırmak için: dvc repro\")\n",
    "\n",
    "# create_dvc_pipeline()  # İhtiyaç olduğunda çalıştırın"
   ]
  },
  {
   "cell_type": "markdown",
   "metadata": {},
   "source": [
    "### 📊 Pipeline'ın Avantajları:\n",
    "\n",
    "1. **Bağımlılık Takibi**: Hangi dosya değişirse hangi adım tekrar çalışır\n",
    "2. **Önbellekleme**: Değişmeyen adımlar tekrar çalışmaz\n",
    "3. **Görselleştirme**: `dvc dag` ile pipeline'ı görün\n",
    "4. **Metrik Takibi**: Model performansını otomatik kaydet"
   ]
  },
  {
   "cell_type": "markdown",
   "metadata": {},
   "source": [
    "---\n",
    "## 🔄 5. Geliştirme Workflow'u\n",
    "\n",
    "Günlük çalışmanızda izlemeniz gereken adımlar:"
   ]
  },
  {
   "cell_type": "markdown",
   "metadata": {},
   "source": [
    "### 📅 Günlük Rutin:\n",
    "\n",
    "```bash\n",
    "# 1. Sabah - güncel durumu çek\n",
    "git pull\n",
    "dvc pull\n",
    "\n",
    "# 2. Geliştirme yap\n",
    "# ... kod değişiklikleri ...\n",
    "\n",
    "# 3. Pipeline'ı test et\n",
    "dvc repro\n",
    "\n",
    "# 4. Sonuçları kontrol et\n",
    "dvc metrics show\n",
    "dvc plots show\n",
    "\n",
    "# 5. İyi sonuç varsa kaydet\n",
    "git add .\n",
    "git commit -m \"Açıklayıcı commit mesajı\"\n",
    "git push\n",
    "\n",
    "# 6. Büyük dosyaları paylaş\n",
    "dvc push\n",
    "```"
   ]
  },
  {
   "cell_type": "markdown",
   "metadata": {},
   "source": [
    "### 🧪 Deneyim Yapma:\n",
    "\n",
    "Her yeni fikir için ayrı branch kullanın:"
   ]
  },
  {
   "cell_type": "code",
   "execution_count": null,
   "metadata": {},
   "outputs": [],
   "source": [
    "# Terminal'de çalıştırın:\n",
    "\n",
    "\"\"\"\n",
    "# Yeni deneyim branch'i oluştur\n",
    "git checkout -b experiment/feature-scaling\n",
    "\n",
    "# Kod değişiklikleri yap\n",
    "# ... src/features/build_features.py dosyasını düzenle ...\n",
    "\n",
    "# Pipeline'ı çalıştır\n",
    "dvc repro\n",
    "\n",
    "# Sonuçları önceki versiyonla karşılaştır\n",
    "dvc metrics diff main\n",
    "\n",
    "# İyi sonuç varsa main'e merge et\n",
    "git checkout main\n",
    "git merge experiment/feature-scaling\n",
    "\n",
    "# Branch'i temizle\n",
    "git branch -d experiment/feature-scaling\n",
    "\"\"\""
   ]
  },
  {
   "cell_type": "markdown",
   "metadata": {},
   "source": [
    "---\n",
    "## 📈 6. Model Versiyonlama\n",
    "\n",
    "Model versiyonlama ML projelerinin en kritik kısmıdır."
   ]
  },
  {
   "cell_type": "markdown",
   "metadata": {},
   "source": [
    "### 🏷️ Model Tagging Stratejisi:"
   ]
  },
  {
   "cell_type": "code",
   "execution_count": null,
   "metadata": {},
   "outputs": [],
   "source": [
    "# Model eğitim ve versiyonlama örneği\n",
    "\n",
    "def create_model_training_script():\n",
    "    \"\"\"\n",
    "    Model eğitimi script'i oluştur\n",
    "    \"\"\"\n",
    "    os.makedirs('src/models', exist_ok=True)\n",
    "    \n",
    "    script_content = '''\n",
    "\"\"\"\n",
    "Model Eğitimi Script'i\n",
    "\"\"\"\n",
    "import pandas as pd\n",
    "import joblib\n",
    "import json\n",
    "import os\n",
    "from sklearn.model_selection import train_test_split\n",
    "from sklearn.ensemble import RandomForestClassifier\n",
    "from sklearn.metrics import accuracy_score, classification_report\n",
    "\n",
    "def main():\n",
    "    print(\"=== MODEL EĞİTİMİ BAŞLIYOR ===\")\n",
    "    \n",
    "    # Veriyi yükle\n",
    "    df = pd.read_csv('data/processed/features.csv')\n",
    "    \n",
    "    # X ve y'yi ayır\n",
    "    X = df.drop('target', axis=1)\n",
    "    y = df['target']\n",
    "    \n",
    "    # Train-test split\n",
    "    X_train, X_test, y_train, y_test = train_test_split(\n",
    "        X, y, test_size=0.2, random_state=42\n",
    "    )\n",
    "    \n",
    "    # Model eğit\n",
    "    model = RandomForestClassifier(n_estimators=100, random_state=42)\n",
    "    model.fit(X_train, y_train)\n",
    "    \n",
    "    # Tahmin yap\n",
    "    y_pred = model.predict(X_test)\n",
    "    \n",
    "    # Performans hesapla\n",
    "    accuracy = accuracy_score(y_test, y_pred)\n",
    "    \n",
    "    # Modeli kaydet\n",
    "    os.makedirs('models', exist_ok=True)\n",
    "    joblib.dump(model, 'models/model.pkl')\n",
    "    \n",
    "    # Metrikleri kaydet\n",
    "    os.makedirs('results', exist_ok=True)\n",
    "    metrics = {\n",
    "        'accuracy': accuracy,\n",
    "        'n_features': len(X.columns),\n",
    "        'n_samples': len(X)\n",
    "    }\n",
    "    \n",
    "    with open('results/metrics.json', 'w') as f:\n",
    "        json.dump(metrics, f, indent=2)\n",
    "    \n",
    "    print(f\"✅ Model eğitildi - Accuracy: {accuracy:.4f}\")\n",
    "    print(\"✅ Model kaydedildi: models/model.pkl\")\n",
    "    print(\"✅ Metrikler kaydedildi: results/metrics.json\")\n",
    "\n",
    "if __name__ == \"__main__\":\n",
    "    main()\n",
    "'''\n",
    "    \n",
    "    with open('src/models/train.py', 'w') as f:\n",
    "        f.write(script_content)\n",
    "    \n",
    "    print(\"✅ src/models/train.py oluşturuldu\")\n",
    "\n",
    "# create_model_training_script()  # İhtiyaç olduğunda çalıştırın"
   ]
  },
  {
   "cell_type": "markdown",
   "metadata": {},
   "source": [
    "### 🏆 Model Versiyonlama Workflow'u:"
   ]
  },
  {
   "cell_type": "code",
   "execution_count": null,
   "metadata": {},
   "outputs": [],
   "source": [
    "# Terminal'de model versiyonlama:\n",
    "\n",
    "\"\"\"\n",
    "# 1. Model eğit\n",
    "dvc repro train\n",
    "\n",
    "# 2. Performansı kontrol et\n",
    "dvc metrics show\n",
    "# Output: accuracy: 0.9245\n",
    "\n",
    "# 3. İyi performans varsa modeli DVC ile takip et\n",
    "dvc add models/model.pkl\n",
    "\n",
    "# 4. Commit yap\n",
    "git add models/model.pkl.dvc results/metrics.json dvc.lock\n",
    "git commit -m \"Model v1.0 - Accuracy: 92.45%\n",
    "\n",
    "Features:\n",
    "- Feature scaling eklendi\n",
    "- RandomForest n_estimators=100\n",
    "- Cross-validation ile optimize edildi\n",
    "\n",
    "Performance:\n",
    "- Accuracy: 92.45%\n",
    "- F1-Score: 91.8%\n",
    "- Training time: 2.3 min\"\n",
    "\n",
    "# 5. Version tag ekle\n",
    "git tag -a v1.0 -m \"Model version 1.0 - 92.45% accuracy\"\n",
    "\n",
    "# 6. Remote'a gönder\n",
    "git push origin main --tags\n",
    "dvc push\n",
    "\"\"\""
   ]
  },
  {
   "cell_type": "markdown",
   "metadata": {},
   "source": [
    "---\n",
    "## 🔍 7. Metrik Takibi ve Karşılaştırma\n",
    "\n",
    "Model performansını sistematik olarak takip edin."
   ]
  },
  {
   "cell_type": "code",
   "execution_count": null,
   "metadata": {},
   "outputs": [],
   "source": [
    "# DVC Metrics kullanımı\n",
    "\n",
    "def create_metrics_example():\n",
    "    \"\"\"\n",
    "    Metrik takibi örneği\n",
    "    \"\"\"\n",
    "    # Örnek metrik dosyası\n",
    "    metrics_example = {\n",
    "        \"accuracy\": 0.9245,\n",
    "        \"precision\": 0.9180,\n",
    "        \"recall\": 0.9156,\n",
    "        \"f1_score\": 0.9168,\n",
    "        \"training_time\": 138.5,\n",
    "        \"model_size_mb\": 45.2,\n",
    "        \"feature_count\": 28\n",
    "    }\n",
    "    \n",
    "    os.makedirs('results', exist_ok=True)\n",
    "    with open('results/metrics.json', 'w') as f:\n",
    "        json.dump(metrics_example, f, indent=2)\n",
    "    \n",
    "    print(\"✅ Örnek metrik dosyası oluşturuldu\")\n",
    "    print(\"📊 Metrikleri görüntülemek için:\")\n",
    "    print(\"   dvc metrics show\")\n",
    "    print(\"   dvc metrics diff\")\n",
    "\n",
    "# create_metrics_example()"
   ]
  },
  {
   "cell_type": "markdown",
   "metadata": {},
   "source": [
    "### 📊 Metrik Karşılaştırma Komutları:\n",
    "\n",
    "```bash\n",
    "# Mevcut metrikleri göster\n",
    "dvc metrics show\n",
    "\n",
    "# İki commit arası farkı görür\n",
    "dvc metrics diff HEAD~1\n",
    "\n",
    "# Belirli branch'le karşılaştır\n",
    "dvc metrics diff main experiment/new-features\n",
    "\n",
    "# Grafik olarak göster\n",
    "dvc plots show results/training_history.json\n",
    "```"
   ]
  },
  {
   "cell_type": "markdown",
   "metadata": {},
   "source": [
    "---\n",
    "## 🌐 8. Remote Storage ve Takım Çalışması\n",
    "\n",
    "Büyük dosyaları takımla paylaşmak için remote storage kullanın."
   ]
  },
  {
   "cell_type": "markdown",
   "metadata": {},
   "source": [
    "### ☁️ Remote Storage Kurulumu:\n",
    "\n",
    "```bash\n",
    "# S3 bucket ekle\n",
    "dvc remote add -d myremote s3://my-bucket/dvc-store\n",
    "\n",
    "# Google Drive ekle\n",
    "dvc remote add -d myremote gdrive://folder-id\n",
    "\n",
    "# Local network folder ekle\n",
    "dvc remote add -d myremote /shared/dvc-storage\n",
    "\n",
    "# SSH server ekle\n",
    "dvc remote add -d myremote ssh://user@server/path/to/dvc\n",
    "\n",
    "# Remote'u kaydet\n",
    "git add .dvc/config\n",
    "git commit -m \"Remote storage eklendi\"\n",
    "```"
   ]
  },
  {
   "cell_type": "markdown",
   "metadata": {},
   "source": [
    "### 👥 Takım Çalışması Workflow'u:\n",
    "\n",
    "```bash\n",
    "# Yeni takım üyesi projeyi klonlar\n",
    "git clone https://github.com/team/ml-project.git\n",
    "cd ml-project\n",
    "\n",
    "# Büyük dosyaları indirir\n",
    "dvc pull\n",
    "\n",
    "# Geliştirme yapar\n",
    "# ... kod değişiklikleri ...\n",
    "\n",
    "# Değişiklikleri paylaşır\n",
    "git add .\n",
    "git commit -m \"Yeni feature eklendi\"\n",
    "git push\n",
    "\n",
    "# Büyük dosyaları paylaşır\n",
    "dvc push\n",
    "```"
   ]
  },
  {
   "cell_type": "markdown",
   "metadata": {},
   "source": [
    "---\n",
    "## ⚡ 9. İleri Seviye Teknikler\n",
    "\n",
    "Daha karmaşık ML projeleri için ileri seviye teknikler:"
   ]
  },
  {
   "cell_type": "markdown",
   "metadata": {},
   "source": [
    "### 🔀 Paralel Deneyimler:\n",
    "\n",
    "```bash\n",
    "# Farklı hiperparametrelerle paralel deneyim\n",
    "dvc exp run -S train.learning_rate=0.01\n",
    "dvc exp run -S train.learning_rate=0.001\n",
    "dvc exp run -S train.learning_rate=0.0001\n",
    "\n",
    "# Deneyimleri karşılaştır\n",
    "dvc exp show\n",
    "\n",
    "# En iyi deneyimi seç\n",
    "dvc exp apply exp-abc123\n",
    "```"
   ]
  },
  {
   "cell_type": "markdown",
   "metadata": {},
   "source": [
    "### 📋 Parametre Yönetimi:\n",
    "\n",
    "```yaml\n",
    "# params.yaml dosyası\n",
    "train:\n",
    "  learning_rate: 0.01\n",
    "  batch_size: 32\n",
    "  epochs: 100\n",
    "  \n",
    "model:\n",
    "  type: \"RandomForest\"\n",
    "  n_estimators: 100\n",
    "  max_depth: 10\n",
    "  \n",
    "data:\n",
    "  train_size: 0.8\n",
    "  validation_size: 0.1\n",
    "  test_size: 0.1\n",
    "```"
   ]
  },
  {
   "cell_type": "markdown",
   "metadata": {},
   "source": [
    "---\n",
    "## 🎯 10. En İyi Uygulamalar (Best Practices)\n",
    "\n",
    "Başarılı ML projeleri için altın kurallar:"
   ]
  },
  {
   "cell_type": "markdown",
   "metadata": {},
   "source": [
    "### ✅ Yapılması Gerekenler:\n",
    "\n",
    "1. **Ham veriyi hiç değiştirme** - Sadece kopyalayıp işle\n",
    "2. **Her adımı script'e çevir** - Notebook'tan script'e geç\n",
    "3. **Küçük, anlamlı commit'ler yap** - Her değişiklik ayrı commit\n",
    "4. **Deneyimleri branch'lerde yap** - main branch'i temiz tut\n",
    "5. **Metrikleri sistematik takip et** - Her model için performans kaydet\n",
    "6. **Dokümantasyon yaz** - README.md'yi güncel tut\n",
    "7. **Pipeline kullan** - Manuel işlemlerden kaçın\n",
    "8. **Remote storage kurulum yap** - Büyük dosyaları güvenle paylaş"
   ]
  },
  {
   "cell_type": "markdown",
   "metadata": {},
   "source": [
    "### ❌ Yapılmaması Gerekenler:\n",
    "\n",
    "1. **Büyük dosyaları Git'e ekleme** - DVC kullan\n",
    "2. **Ham veriyi değiştirme** - Her zaman kopyala\n",
    "3. **Manuel veri işleme** - Script'lere çevir\n",
    "4. **Belirsiz commit mesajları** - \"fix\" yazmak yeterli değil\n",
    "5. **Deneyimleri main'de yapma** - Branch kullan\n",
    "6. **Sadece final modeli kaydetme** - Ara adımları da takip et\n",
    "7. **Dokümantasyonu erteleme** - Hemen yaz, sonra unut\n",
    "8. **Binary dosyaları commit'leme** - .gitignore'a ekle"
   ]
  },
  {
   "cell_type": "markdown",
   "metadata": {},
   "source": [
    "---\n",
    "## 🚀 11. Hızlı Başlangıç Checklist\n",
    "\n",
    "Yeni ML projesi başlatırken bu listeyi takip edin:"
   ]
  },
  {
   "cell_type": "markdown",
   "metadata": {},
   "source": [
    "### 📋 Proje Kurulum Checklist:\n",
    "\n",
    "- [ ] Proje klasörü oluştur\n",
    "- [ ] `git init` çalıştır\n",
    "- [ ] `dvc init` çalıştır\n",
    "- [ ] Klasör yapısını oluştur (data/, src/, models/, results/)\n",
    "- [ ] .gitignore dosyası oluştur\n",
    "- [ ] requirements.txt oluştur\n",
    "- [ ] README.md yaz\n",
    "- [ ] İlk commit yap\n",
    "- [ ] Remote repository oluştur (GitHub/GitLab)\n",
    "- [ ] Remote storage kur (S3/Google Drive)\n",
    "\n",
    "### 📊 Veri Yönetimi Checklist:\n",
    "\n",
    "- [ ] Ham veriyi data/raw/ klasörüne koy\n",
    "- [ ] Ham veriyi DVC ile takip et\n",
    "- [ ] Veri temizleme script'i yaz\n",
    "- [ ] Feature engineering script'i yaz\n",
    "- [ ] DVC pipeline oluştur (dvc.yaml)\n",
    "- [ ] Pipeline'ı test et (dvc repro)\n",
    "- [ ] Veri versiyonlarını commit et\n",
    "\n",
    "### 🤖 Model Geliştirme Checklist:\n",
    "\n",
    "- [ ] Model eğitim script'i yaz\n",
    "- [ ] Model değerlendirme script'i yaz\n",
    "- [ ] Metrik takibi ekle (results/metrics.json)\n",
    "- [ ] Model'i DVC ile takip et\n",
    "- [ ] Baseline model oluştur\n",
    "- [ ] Model versiyonları için tag kullan\n",
    "- [ ] Her model için performans dokümante et"
   ]
  },
  {
   "cell_type": "markdown",
   "metadata": {},
   "source": [
    "---\n",
    "## 🎓 12. Özet ve Sonraki Adımlar\n",
    "\n",
    "Bu notebook'ta ML projelerinde veri yönetimi ve versiyonlamanın temellerini öğrendiniz."
   ]
  },
  {
   "cell_type": "markdown",
   "metadata": {},
   "source": [
    "### 🎯 Öğrendikleriniz:\n",
    "\n",
    "✅ **Proje Yapısı**: Doğru klasör organizasyonu  \n",
    "✅ **Git Kullanımı**: Kod versiyonlama  \n",
    "✅ **DVC Kullanımı**: Veri ve model versiyonlama  \n",
    "✅ **Pipeline Oluşturma**: Otomatik ML workflow'u  \n",
    "✅ **Metrik Takibi**: Performans karşılaştırması  \n",
    "✅ **Takım Çalışması**: Remote storage ve collaboration  \n",
    "✅ **Best Practices**: Profesyonel geliştirme alışkanlıkları  "
   ]
  },
  {
   "cell_type": "markdown",
   "metadata": {},
   "source": [
    "### 🚀 Sonraki Adımlarınız:\n",
    "\n",
    "1. **Kendi projenizde uygulayın**: Bu yapıyı mevcut bir ML projesinde test edin\n",
    "2. **Remote storage kurun**: S3 veya Google Drive ile büyük dosya paylaşımını deneyin\n",
    "3. **CI/CD öğrenin**: GitHub Actions ile otomatik test ve deployment\n",
    "4. **MLOps araçlarını keşfedin**: MLflow, Weights & Biases, Kubeflow\n",
    "5. **Takım projesi yapın**: Arkadaşlarınızla birlikte bir ML projesi geliştirin"
   ]
  },
  {
   "cell_type": "markdown",
   "metadata": {},
   "source": [
    "### 📚 Ek Kaynaklar:\n",
    "\n",
    "- [DVC Resmi Dokümantasyonu](https://dvc.org/doc)\n",
    "- [Git Resmi Dokümantasyonu](https://git-scm.com/doc)\n",
    "- [MLOps Best Practices](https://ml-ops.org/)\n",
    "- [Machine Learning Engineering Kitabı](http://www.mlebook.com/)\n",
    "- [Practical MLOps](https://www.oreilly.com/library/view/practical-mlops/9781098103002/)"
   ]
  },
  {
   "cell_type": "markdown",
   "metadata": {},
   "source": [
    "---\n",
    "\n",
    "## 💡 Son Tavsiye\n",
    "\n",
    "**\"Perfect is the enemy of good\"** - Mükemmel sistemi kurmaya çalışmaktan ziyade, basit bir sistemle başlayıp adım adım geliştirin. En önemlisi, bu yapıyı **sürekli kullanmak** ve alışkanlık haline getirmektir.\n",
    "\n",
    "**Başarılar! 🚀**"
   ]
  }
 ],
 "metadata": {
  "kernelspec": {
   "display_name": "Python 3 (ipykernel)",
   "language": "python",
   "name": "python3"
  },
  "language_info": {
   "codemirror_mode": {
    "name": "ipython",
    "version": 3
   },
   "file_extension": ".py",
   "mimetype": "text/x-python",
   "name": "python",
   "nbconvert_exporter": "python",
   "pygments_lexer": "ipython3",
   "version": "3.13.3"
  }
 },
 "nbformat": 4,
 "nbformat_minor": 4
}
